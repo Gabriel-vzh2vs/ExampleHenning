{
 "cells": [
  {
   "cell_type": "markdown",
   "id": "753e2fba",
   "metadata": {},
   "source": [
    "# Example of importing one markdown into another with the include directive\n",
    "\n",
    "### Notes:\n",
    "1. **Relative Path**: Use relative paths (e.g., `../folder/file.md`) or absolute paths depending on your project structure.\n",
    "2. **MyST Parser**: Ensure that MyST is properly configured in your environment (e.g., in `conf.py` for Sphinx or `_config.yml` for Jupyter Book).\n",
    "3. **Customization**: You can add options like `start-after` or `end-before` to include only specific parts of the file.\n",
    "\n",
    "### Example\n",
    "If you have a file named `smallexample.md` and you want to include it in your current Markdown file, you would write:\n",
    "\n",
    "````{include}smallexample.md````\n",
    "\n",
    "And the output would be the following:\n",
    "\n",
    "```{include} smallexample.md\n",
    "\n"
   ]
  }
 ],
 "metadata": {
  "kernelspec": {
   "display_name": "book_project",
   "language": "python",
   "name": "python3"
  },
  "language_info": {
   "name": "python",
   "version": "3.13.3"
  }
 },
 "nbformat": 4,
 "nbformat_minor": 5
}
