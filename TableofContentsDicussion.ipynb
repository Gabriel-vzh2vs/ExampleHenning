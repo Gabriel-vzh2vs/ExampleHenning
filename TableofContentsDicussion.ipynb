{
 "cells": [
  {
   "cell_type": "markdown",
   "id": "796faa7a",
   "metadata": {},
   "source": [
    "# The Devil's Bargain: The Table of Contents\n",
    "\n",
    "Normally, a Table of Contents is manually made with the file paths, such as the following (yes, this is the current table of contents for this book excluding this file):\n",
    "\n",
    "```yaml\n",
    "format: jb-book\n",
    "root: intro \n",
    "chapters:\n",
    "- file: markdown\n",
    "- file: notebooks\n",
    "- file: markdown-notebooks\n",
    "\n",
    "```\n",
    "\n",
    "These Represent the following:\n",
    "format:\n",
    "Defines the structure of this Table of Contents (e.g., how to interpret the key names). jb-book tells Jupyter Book to expect chapters and parts terminology (see below for details).\n",
    "\n",
    "root:\n",
    "The first page of your book (aka, the “root page”). It is the landing page for the HTML of your book. All paths for chapters/sections will be relative to this root document.\n",
    "\n",
    "chapters:\n",
    "A list of entries, each of which maps onto chapters of your book.\n",
    "\n",
    "file:\n",
    "A path to a file that contains the content for a chapter / section. These paths are relative to the root: document.\n",
    "\n",
    "## Generating a Table of Contents (Yes, you don't have do this manually.)\n",
    "\n",
    "\n",
    "You can use `jupyter-book` to *generate* a table of contents file from your book\n",
    "using the filenames of your book's content. To do so, run the following command\n",
    "\n",
    "```bash\n",
    "jupyter-book toc from-project path/to/book -f [jb-book/jb-article]\n",
    "```\n",
    "\n",
    "Jupyter Book will search `mybookpath/` for any content files, which are defined as Markdown, Juypter Nooteboks, MyST Markdown (markdown with code and commonmark enhancements).\n",
    "\n",
    "\n",
    "and create a `_toc.yml` file out of them. There are a few considerations to keep in mind:\n",
    "\n",
    "* Each sub-folder must have at least one content file inside it\n",
    "* The ordering of files in `_toc.yml` will depend on the alphanumeric order of\n",
    "  the filenames (e.g., `folder_01` comes before `folder_02`, and `apage` comes\n",
    "  before `b_page`)\n",
    "* If there is a file called `index.md` in any folder, it will be listed first.\n",
    "\n",
    "You may also **generate navigation bar *titles* from each file of your book**.\n",
    "If you do so, note that if the file name begins with `<integer>_filename.md`, then\n",
    "the `<integer>` part will be removed before it is inserted into `_toc.yml`.\n",
    "\n",
    "In addition, you have a few extra options for controlling how the `_toc.yml` file is generated."
   ]
  }
 ],
 "metadata": {
  "kernelspec": {
   "display_name": "book_project",
   "language": "python",
   "name": "python3"
  },
  "language_info": {
   "name": "python",
   "version": "3.13.3"
  }
 },
 "nbformat": 4,
 "nbformat_minor": 5
}
